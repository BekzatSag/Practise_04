{
 "cells": [
  {
   "cell_type": "markdown",
   "metadata": {},
   "source": [
    "## 1"
   ]
  },
  {
   "cell_type": "code",
   "execution_count": 8,
   "metadata": {},
   "outputs": [
    {
     "name": "stdout",
     "output_type": "stream",
     "text": [
      "0 1 4 9 16 25 "
     ]
    }
   ],
   "source": [
    "def funct(n):\n",
    "    var = 0\n",
    "    while(var<=n):\n",
    "        yield var**2 \n",
    "        var+=1\n",
    "n = int(input(\"Input the number: \"))\n",
    "for i in funct(n):\n",
    "    print(i, end = \" \")"
   ]
  },
  {
   "cell_type": "markdown",
   "metadata": {},
   "source": [
    "## 2"
   ]
  },
  {
   "cell_type": "code",
   "execution_count": null,
   "metadata": {},
   "outputs": [
    {
     "name": "stdout",
     "output_type": "stream",
     "text": [
      "0, 2, 4, 6, 8\n"
     ]
    }
   ],
   "source": [
    "n = int(input())\n",
    "def funct(n):\n",
    "    count = 0\n",
    "    while(count < n):\n",
    "        if count %2==0: yield count\n",
    "        count+=1\n",
    "listik = list(funct(n))\n",
    "\n",
    "for i in range(len(listik)):\n",
    "    if i==len(listik)-1: print(listik[i]) \n",
    "    else: print(listik[i], end=', ')\n",
    "    \n",
    "    \n"
   ]
  },
  {
   "cell_type": "markdown",
   "metadata": {},
   "source": [
    "## 3"
   ]
  },
  {
   "cell_type": "code",
   "execution_count": 9,
   "metadata": {},
   "outputs": [
    {
     "name": "stdout",
     "output_type": "stream",
     "text": [
      "0 12 24 36 48 "
     ]
    }
   ],
   "source": [
    "n = int(input())\n",
    "def funct(n):\n",
    "    count = 0\n",
    "    while(count < n):\n",
    "        if count %4==0 and count%3==0: yield count\n",
    "        count+=1\n",
    "for i in funct(n):\n",
    "    print(i, end =\" \")\n"
   ]
  },
  {
   "cell_type": "markdown",
   "metadata": {},
   "source": [
    "## 4"
   ]
  },
  {
   "cell_type": "code",
   "execution_count": 10,
   "metadata": {},
   "outputs": [
    {
     "name": "stdout",
     "output_type": "stream",
     "text": [
      "1 4 9 16 25 36 49 64 81 "
     ]
    }
   ],
   "source": [
    "def squares(a, b):\n",
    "    count = a\n",
    "    while(count < b):\n",
    "        yield count**2\n",
    "        count+=1\n",
    "a = int(input())\n",
    "b = int(input())\n",
    "for i in squares(a, b):\n",
    "    print(i, end = \" \")"
   ]
  },
  {
   "cell_type": "markdown",
   "metadata": {},
   "source": [
    "## 5"
   ]
  },
  {
   "cell_type": "code",
   "execution_count": 24,
   "metadata": {},
   "outputs": [
    {
     "name": "stdout",
     "output_type": "stream",
     "text": [
      "10 9 8 7 6 5 4 3 2 1 0 "
     ]
    }
   ],
   "source": [
    "def funct(n):\n",
    "    while(n >= 0):\n",
    "        yield n\n",
    "        n-=1\n",
    "n = int(input()) \n",
    "for i in funct(n):\n",
    "    print(i, end =\" \")"
   ]
  }
 ],
 "metadata": {
  "kernelspec": {
   "display_name": "base",
   "language": "python",
   "name": "python3"
  },
  "language_info": {
   "codemirror_mode": {
    "name": "ipython",
    "version": 3
   },
   "file_extension": ".py",
   "mimetype": "text/x-python",
   "name": "python",
   "nbconvert_exporter": "python",
   "pygments_lexer": "ipython3",
   "version": "3.12.7"
  }
 },
 "nbformat": 4,
 "nbformat_minor": 2
}
