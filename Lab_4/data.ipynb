{
 "cells": [
  {
   "cell_type": "markdown",
   "metadata": {},
   "source": [
    "## 1"
   ]
  },
  {
   "cell_type": "code",
   "execution_count": 1,
   "metadata": {},
   "outputs": [
    {
     "name": "stdout",
     "output_type": "stream",
     "text": [
      "2025-02-11 16:44:44.756010\n"
     ]
    }
   ],
   "source": [
    "import datetime\n",
    "def d5_ago():\n",
    "    today = datetime.datetime.today()\n",
    "    return(today - datetime.timedelta(days=5))\n",
    "print(d5_ago())"
   ]
  },
  {
   "cell_type": "markdown",
   "metadata": {},
   "source": [
    "## 2"
   ]
  },
  {
   "cell_type": "code",
   "execution_count": 48,
   "metadata": {},
   "outputs": [
    {
     "name": "stdout",
     "output_type": "stream",
     "text": [
      "Today:  2025-02-15\n",
      "Yesturday  2025-02-14\n",
      "Tomorrow:  2025-02-16\n"
     ]
    }
   ],
   "source": [
    "import datetime\n",
    "def tom_yes():\n",
    "    today = datetime.date.today()\n",
    "    print(\"Today: \", today)\n",
    "    print(\"Yesturday \", today - datetime.timedelta(days = 1))\n",
    "    print(\"Tomorrow: \", today + datetime.timedelta(days = 1))\n",
    "tom_yes()"
   ]
  },
  {
   "cell_type": "markdown",
   "metadata": {},
   "source": [
    "## 3"
   ]
  },
  {
   "cell_type": "code",
   "execution_count": 13,
   "metadata": {},
   "outputs": [
    {
     "name": "stdout",
     "output_type": "stream",
     "text": [
      "2025-02-16 05:35:25:255\n",
      "2025-02-16 05:35:25\n"
     ]
    }
   ],
   "source": [
    "import datetime\n",
    "def drop_seconds(datetime):\n",
    "    print(datetime.replace(microsecond=0))\n",
    "a = datetime.datetime(2025, 2, 16, 5, 35, 25, 255)\n",
    "print(a.strftime(f\"%Y-%m-%d %H:%M:%S:{a.microsecond}\"))\n",
    "drop_seconds(a)\n",
    "\n"
   ]
  },
  {
   "cell_type": "markdown",
   "metadata": {},
   "source": [
    "## 4"
   ]
  },
  {
   "cell_type": "code",
   "execution_count": 17,
   "metadata": {},
   "outputs": [
    {
     "name": "stdout",
     "output_type": "stream",
     "text": [
      "259200.0\n"
     ]
    }
   ],
   "source": [
    "import datetime\n",
    "def difference_in_seconds(d1, d2):\n",
    "    return (d1 - d2).total_seconds()\n",
    "d1 = datetime.date.today()\n",
    "d2 = datetime.date(2025, 2, 13)\n",
    "print(difference_in_seconds(d1, d2))\n",
    "\n"
   ]
  }
 ],
 "metadata": {
  "kernelspec": {
   "display_name": "base",
   "language": "python",
   "name": "python3"
  },
  "language_info": {
   "codemirror_mode": {
    "name": "ipython",
    "version": 3
   },
   "file_extension": ".py",
   "mimetype": "text/x-python",
   "name": "python",
   "nbconvert_exporter": "python",
   "pygments_lexer": "ipython3",
   "version": "3.12.7"
  }
 },
 "nbformat": 4,
 "nbformat_minor": 2
}
